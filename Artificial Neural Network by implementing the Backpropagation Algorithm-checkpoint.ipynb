{
 "cells": [
  {
   "cell_type": "code",
   "execution_count": 1,
   "id": "846cfb62",
   "metadata": {},
   "outputs": [
    {
     "name": "stdout",
     "output_type": "stream",
     "text": [
      "Predicted Output:\n",
      "[[0.07867958]\n",
      " [0.92547958]\n",
      " [0.92718494]\n",
      " [0.07972985]]\n"
     ]
    }
   ],
   "source": [
    "import numpy as np\n",
    "\n",
    "def sigmoid(x):\n",
    "    return 1 / (1 + np.exp(-x))\n",
    "\n",
    "def sigmoid_derivative(x):\n",
    "    return x * (1 - x)\n",
    "\n",
    "X = np.array([[0, 0], [0, 1], [1, 0], [1, 1]])\n",
    "y = np.array([[0], [1], [1], [0]])\n",
    "\n",
    "i_s, hs, os = 2, 4, 1\n",
    "\n",
    "lr, epochs = 0.1, 10000\n",
    "\n",
    "np.random.seed(1)\n",
    "hw = np.random.uniform(size=(i_s, hs))\n",
    "hb = np.zeros((1, hs))\n",
    "ow = np.random.uniform(size=(hs, os))\n",
    "ob = np.zeros((1, os))\n",
    "\n",
    "for epoch in range(epochs):\n",
    "    # Forward pass\n",
    "    hlo = sigmoid(np.dot(X, hw) + hb)\n",
    "    olo = sigmoid(np.dot(hlo, ow) + ob)\n",
    "\n",
    "    # Backpropagation\n",
    "    d_output = (y - olo) * sigmoid_derivative(olo)\n",
    "    d_hidden = d_output.dot(ow.T) * sigmoid_derivative(hlo)\n",
    "\n",
    "    # Update weights and biases\n",
    "    ow += hlo.T.dot(d_output) * lr\n",
    "    ob += np.sum(d_output, axis=0, keepdims=True) * lr\n",
    "    hw += X.T.dot(d_hidden) * lr\n",
    "    hb += np.sum(d_hidden, axis=0, keepdims=True) * lr\n",
    "\n",
    "# Testing\n",
    "hlo = sigmoid(np.dot(X, hw) + hb)\n",
    "olo = sigmoid(np.dot(hlo, ow) + ob)\n",
    "\n",
    "print(\"Predicted Output:\")\n",
    "print(olo)"
   ]
  },
  {
   "cell_type": "code",
   "execution_count": null,
   "id": "dce482b0",
   "metadata": {},
   "outputs": [],
   "source": []
  }
 ],
 "metadata": {
  "kernelspec": {
   "display_name": "Python 3 (ipykernel)",
   "language": "python",
   "name": "python3"
  },
  "language_info": {
   "codemirror_mode": {
    "name": "ipython",
    "version": 3
   },
   "file_extension": ".py",
   "mimetype": "text/x-python",
   "name": "python",
   "nbconvert_exporter": "python",
   "pygments_lexer": "ipython3",
   "version": "3.9.7"
  }
 },
 "nbformat": 4,
 "nbformat_minor": 5
}
